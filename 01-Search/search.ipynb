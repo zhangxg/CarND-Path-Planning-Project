{
 "cells": [
  {
   "cell_type": "code",
   "execution_count": 15,
   "metadata": {},
   "outputs": [],
   "source": [
    "# ----------\n",
    "# User Instructions:\n",
    "# \n",
    "# Define a function, search() that returns a list\n",
    "# in the form of [optimal path length, row, col]. For\n",
    "# the grid shown below, your function should output\n",
    "# [11, 4, 5].\n",
    "#\n",
    "# If there is no valid path from the start point\n",
    "# to the goal, your function should return the string\n",
    "# 'fail'\n",
    "# ----------\n",
    "\n",
    "# Grid format:\n",
    "#   0 = Navigable space\n",
    "#   1 = Occupied space\n",
    "\n",
    "grid = [[0, 0, 1, 0, 0, 0],\n",
    "        [0, 0, 0, 0, 0, 0],\n",
    "        [0, 0, 0, 0, 1, 0],\n",
    "        [0, 0, 1, 1, 1, 0],\n",
    "        [0, 0, 0, 0, 1, 0]]\n",
    "\n",
    "init = [0, 0]\n",
    "goal = [len(grid)-1, len(grid[0])-1]\n",
    "cost = 1\n",
    "\n",
    "delta = [[-1, 0], # go up\n",
    "         [ 0,-1], # go left\n",
    "         [ 1, 0], # go down\n",
    "         [ 0, 1]] # go right\n",
    "\n",
    "delta_name = ['^', '<', 'v', '>']"
   ]
  },
  {
   "cell_type": "code",
   "execution_count": 16,
   "metadata": {
    "collapsed": true
   },
   "outputs": [],
   "source": [
    "def search():\n",
    "    # define a closed metric, indicates the cell is visited.\n",
    "    closed = [[0 for i in range(len(grid[0]))] for j in range(len(grid))]\n",
    "    closed[init[0]][init[1]] = 1\n",
    "\n",
    "    x = init[0]\n",
    "    y = init[1]\n",
    "    g = 0\n",
    "\n",
    "    open_list = [[g, x, y]]\n",
    "\n",
    "    found = False\n",
    "    resign = False\n",
    "\n",
    "    while found is False and resign is False:\n",
    "        if len(open_list) == 0:\n",
    "            resign = True\n",
    "            print(\"fail\")\n",
    "        else:\n",
    "            print(open_list)\n",
    "            open_list.sort()\n",
    "            open_list.reverse()\n",
    "            next_open = open_list.pop()\n",
    "\n",
    "            x = next_open[1]\n",
    "            y = next_open[2]\n",
    "            g = next_open[0]\n",
    "\n",
    "            if x == goal[0] and y == goal[1]:\n",
    "                found = True\n",
    "                print(next_open)\n",
    "            else:\n",
    "                for d in delta:\n",
    "                    next_x = x + d[0]\n",
    "                    next_y = y + d[1]\n",
    "\n",
    "                    if 0 <= next_x < len(grid) and 0 <= next_y < len(grid[0]):\n",
    "                    # if (next_x >= 0 and next_x < len(grid)) and (next_y >= 0 and next_y < len(grid[0])):\n",
    "                        if closed[next_x][next_y] == 0 and grid[next_x][next_y] == 0:\n",
    "                            open_list.append([g + 1, next_x, next_y])\n",
    "                            closed[next_x][next_y] = 1\n",
    "\n",
    "\n",
    "# return open_list"
   ]
  },
  {
   "cell_type": "code",
   "execution_count": 17,
   "metadata": {},
   "outputs": [
    {
     "name": "stdout",
     "output_type": "stream",
     "text": [
      "[[0, 0, 3]]\n",
      "[[1, 1, 3], [1, 0, 4]]\n",
      "[[1, 1, 3], [2, 1, 4], [2, 0, 5]]\n",
      "[[2, 1, 4], [2, 0, 5], [2, 1, 2], [2, 2, 3]]\n",
      "[[2, 2, 3], [2, 1, 4], [2, 1, 2], [3, 1, 5]]\n",
      "[[3, 1, 5], [2, 2, 3], [2, 1, 4], [3, 1, 1]]\n",
      "[[3, 1, 5], [3, 1, 1], [2, 2, 3]]\n",
      "[[3, 1, 5], [3, 1, 1]]\n",
      "[[3, 1, 5], [4, 0, 1], [4, 1, 0], [4, 2, 1]]\n",
      "[[4, 2, 1], [4, 1, 0], [4, 0, 1], [4, 2, 5]]\n",
      "[[4, 2, 5], [4, 2, 1], [4, 1, 0], [5, 0, 0]]\n",
      "[[5, 0, 0], [4, 2, 5], [4, 2, 1], [5, 2, 0]]\n",
      "[[5, 2, 0], [5, 0, 0], [4, 2, 5], [5, 3, 1]]\n",
      "[[5, 3, 1], [5, 2, 0], [5, 0, 0], [5, 3, 5]]\n",
      "[[5, 3, 5], [5, 3, 1], [5, 2, 0]]\n",
      "[[5, 3, 5], [5, 3, 1], [6, 3, 0]]\n",
      "[[6, 3, 0], [5, 3, 5], [6, 4, 1]]\n",
      "[[6, 4, 1], [6, 3, 0], [6, 4, 5]]\n",
      "[[6, 4, 5], [6, 4, 1], [7, 4, 0]]\n",
      "[[7, 4, 0], [6, 4, 5], [7, 4, 2]]\n",
      "[6, 4, 5]\n"
     ]
    }
   ],
   "source": [
    "search()"
   ]
  },
  {
   "cell_type": "code",
   "execution_count": null,
   "metadata": {
    "collapsed": true
   },
   "outputs": [],
   "source": []
  },
  {
   "cell_type": "code",
   "execution_count": null,
   "metadata": {
    "scrolled": false
   },
   "outputs": [],
   "source": [
    "def search(grid, init, goal, cost):\n",
    "    # ----------------------------------------\n",
    "    # insert code here\n",
    "    # ----------------------------------------\n",
    "    # 1. find sucessors, the found ones are the feasible ones, but it inlucdes the checked ones\n",
    "    if init[0] == goal[0] and init[1] == goal[1]:\n",
    "      return\n",
    "    \n",
    "    open_list = [[init[0] + d[0], init[1] + d[1]] for d in delta]\n",
    "    print(open_list)\n",
    "    # the feasible \n",
    "    within_boundry = filter(lambda x: ((x[0] >= 0 and x[1] >= 0) and (x[0] < len(grid) and x[1] < len(grid[0]))), open_list)\n",
    "    print(within_boundry)\n",
    "    no_blocked = filter(lambda x: grid[x[0]][x[1]] < 1, within_boundry)\n",
    "    \n",
    "    for d in no_blocked:\n",
    "      if d[0] == init[0] and d[1] == init[1]:\n",
    "        continue\n",
    "      search(grid, d, goal, cost)\n",
    "  #   return open_list, within_boundry, no_blocked\n",
    "#     return no_blocked\n",
    "    # 2. calculate g_value\n",
    "    \n",
    "    # 3. print path\n",
    "    \n",
    "    \n",
    "    \n",
    "    \n",
    "    \n",
    "#   return path"
   ]
  },
  {
   "cell_type": "code",
   "execution_count": null,
   "metadata": {},
   "outputs": [],
   "source": [
    "def find_successors(grid, init, delta):\n",
    "#   open_list = []\n",
    "  # the possible\n",
    "  open_list = [[init[0] + d[0], init[1] + d[1]] for d in delta]\n",
    "  print(open_list)\n",
    "  # the feasible \n",
    "  within_boundry = filter(lambda x: ((x[0] >= 0 and x[1] >= 0) and (x[0] < len(grid) and x[1] < len(grid[0]))), open_list)\n",
    "  print(within_boundry)\n",
    "  no_blocked = filter(lambda x: grid[x[0]][x[1]] < 1, within_boundry)\n",
    "#   return open_list, within_boundry, no_blocked\n",
    "  return no_blocked\n",
    "  "
   ]
  },
  {
   "cell_type": "code",
   "execution_count": null,
   "metadata": {},
   "outputs": [],
   "source": [
    "# open_list, bouned, no_blocked = find_successors(grid, [1,0], delta)\n",
    "no_blocked = find_successors(grid, [3,5], delta)\n",
    "# print(open_list)\n",
    "# print(bouned)\n",
    "print(no_blocked)"
   ]
  },
  {
   "cell_type": "markdown",
   "metadata": {},
   "source": [
    "```\n",
    "grid = [[0, 0, 1, 0, 0, 0],\n",
    "        [0, 0, 1, 0, 0, 0],\n",
    "        [0, 0, 0, 0, 1, 0],\n",
    "        [0, 0, 1, 1, 1, 0],\n",
    "        [0, 0, 0, 0, 1, 0]]\n",
    "```"
   ]
  },
  {
   "cell_type": "code",
   "execution_count": null,
   "metadata": {},
   "outputs": [],
   "source": [
    "goal"
   ]
  },
  {
   "cell_type": "code",
   "execution_count": null,
   "metadata": {
    "collapsed": true
   },
   "outputs": [],
   "source": []
  }
 ],
 "metadata": {
  "kernelspec": {
   "display_name": "Python 2",
   "language": "python",
   "name": "python2"
  },
  "language_info": {
   "codemirror_mode": {
    "name": "ipython",
    "version": 2
   },
   "file_extension": ".py",
   "mimetype": "text/x-python",
   "name": "python",
   "nbconvert_exporter": "python",
   "pygments_lexer": "ipython2",
   "version": "2.7.13"
  }
 },
 "nbformat": 4,
 "nbformat_minor": 2
}
