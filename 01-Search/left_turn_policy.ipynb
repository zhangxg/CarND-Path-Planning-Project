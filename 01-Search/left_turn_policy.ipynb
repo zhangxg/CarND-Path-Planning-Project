{
 "cells": [
  {
   "cell_type": "code",
   "execution_count": null,
   "metadata": {
    "collapsed": true
   },
   "outputs": [],
   "source": [
    "# ----------\n",
    "# User Instructions:\n",
    "# \n",
    "# Implement the function optimum_policy2D below.\n",
    "#\n",
    "# You are given a car in grid with initial state\n",
    "# init. Your task is to compute and return the car's \n",
    "# optimal path to the position specified in goal; \n",
    "# the costs for each motion are as defined in cost.\n",
    "#\n",
    "# There are four motion directions: up, left, down, and right.\n",
    "# Increasing the index in this array corresponds to making a\n",
    "# a left turn, and decreasing the index corresponds to making a \n",
    "# right turn.\n",
    "\n",
    "forward = [[-1,  0], # go up\n",
    "           [ 0, -1], # go left\n",
    "           [ 1,  0], # go down\n",
    "           [ 0,  1]] # go right\n",
    "forward_name = ['up', 'left', 'down', 'right']\n",
    "\n",
    "# action has 3 values: right turn, no turn, left turn\n",
    "action = [-1, 0, 1]\n",
    "action_name = ['R', '#', 'L']\n",
    "\n",
    "# EXAMPLE INPUTS:\n",
    "# grid format:\n",
    "#     0 = navigable space\n",
    "#     1 = unnavigable space \n",
    "grid = [[1, 1, 1, 0, 0, 0],\n",
    "        [1, 1, 1, 0, 1, 0],\n",
    "        [0, 0, 0, 0, 0, 0],\n",
    "        [1, 1, 1, 0, 1, 1],\n",
    "        [1, 1, 1, 0, 1, 1]]\n",
    "\n",
    "init = [4, 3, 0] # given in the form [row,col,direction]\n",
    "                 # direction = 0: up\n",
    "                 #             1: left\n",
    "                 #             2: down\n",
    "                 #             3: right\n",
    "                \n",
    "goal = [2, 0] # given in the form [row,col]\n",
    "\n",
    "cost = [2, 1, 20] # cost has 3 values, corresponding to making \n",
    "                  # a right turn, no turn, and a left turn\n",
    "\n",
    "# EXAMPLE OUTPUT:\n",
    "# calling optimum_policy2D with the given parameters should return \n",
    "# [[' ', ' ', ' ', 'R', '#', 'R'],\n",
    "#  [' ', ' ', ' ', '#', ' ', '#'],\n",
    "#  ['*', '#', '#', '#', '#', 'R'],\n",
    "#  [' ', ' ', ' ', '#', ' ', ' '],\n",
    "#  [' ', ' ', ' ', '#', ' ', ' ']]\n",
    "# ----------\n",
    "\n",
    "# ----------------------------------------\n",
    "# modify code below\n",
    "# ----------------------------------------\n",
    "\n",
    "def optimum_policy2D(grid,init,goal,cost):\n",
    "\n",
    "    return policy2D\n"
   ]
  }
 ],
 "metadata": {
  "kernelspec": {
   "display_name": "Python 2",
   "language": "python",
   "name": "python2"
  },
  "language_info": {
   "codemirror_mode": {
    "name": "ipython",
    "version": 2
   },
   "file_extension": ".py",
   "mimetype": "text/x-python",
   "name": "python",
   "nbconvert_exporter": "python",
   "pygments_lexer": "ipython2",
   "version": "2.7.13"
  }
 },
 "nbformat": 4,
 "nbformat_minor": 2
}
